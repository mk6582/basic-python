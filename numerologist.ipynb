{
 "cells": [
  {
   "cell_type": "code",
   "execution_count": 1,
   "id": "ecbc9081",
   "metadata": {},
   "outputs": [
    {
     "name": "stdout",
     "output_type": "stream",
     "text": [
      "2\n"
     ]
    }
   ],
   "source": [
    "c=25\n",
    "b=c//10   # (ab) // n = a\n",
    "\n",
    "print(b)\n",
    "\n"
   ]
  },
  {
   "cell_type": "code",
   "execution_count": 2,
   "id": "b064ffe2",
   "metadata": {},
   "outputs": [
    {
     "name": "stdout",
     "output_type": "stream",
     "text": [
      "5\n"
     ]
    }
   ],
   "source": [
    "i=25\n",
    "a=i%10   # (ab) % n = b\n",
    "\n",
    "print(a)"
   ]
  },
  {
   "cell_type": "code",
   "execution_count": 3,
   "id": "dc21ccdd",
   "metadata": {},
   "outputs": [
    {
     "name": "stdout",
     "output_type": "stream",
     "text": [
      "9\n"
     ]
    }
   ],
   "source": [
    "# find sum of two digit number >9 like 21,23,18,etc\n",
    "\n",
    "\n",
    "\n",
    "N = 18\n",
    "\n",
    "s= N%10 + N//10\n",
    "\n",
    "print(s)\n"
   ]
  },
  {
   "cell_type": "code",
   "execution_count": 4,
   "id": "4a467195",
   "metadata": {},
   "outputs": [
    {
     "name": "stdout",
     "output_type": "stream",
     "text": [
      "your DOB is : 23051994\n",
      " Your birth number is :  23\n",
      "Your conductor Number(bhagyaank)  :  6\n",
      "6 Those born with conductor number(bhagyaank) six are most fulfilled in nurturing positions. Sixes will probably be most happy as parents. They thrive in caretaker positions like medicine or education. Unfortunately, this need to nurture makes it hard for sixes to say no to other people’s demands.\n"
     ]
    }
   ],
   "source": [
    "# To find mulank(birth number) and bhagyank(conductor number)\n",
    "\n",
    "DOB_str = input(\"your DOB is : \")\n",
    "\n",
    "a = DOB_str[:2]\n",
    "\n",
    "print(\" Your birth number is : \" , a)\n",
    "\n",
    "\n",
    "# calculation for mulaank\n",
    "n = 0\n",
    "for num in DOB_str[:2]:\n",
    "    n += int(num) \n",
    "    \n",
    "    # modulation in case of 2 digit number\n",
    "    if n > 9:\n",
    "        n = n % 10 + n // 10\n",
    "        print(\" Your mulaank is : \" ,n)\n",
    "\n",
    "# calculation for bhagyaank\n",
    "i = 0\n",
    "for num in DOB_str:\n",
    "    i += int(num)\n",
    "     \n",
    "    # modulation in case of 2 digit number\n",
    "    if i > 9:\n",
    "        i = i % 10 + i // 10\n",
    " \n",
    "print(\"Your conductor Number(bhagyaank)  : \" ,i)\n",
    "\n",
    "p='1 Those born with the conductor number(bhagyaank) one is the world’s natural leaders. Ones are driven and ambitious; they dream big and can usually be counted on to achieve their goals. Ones can be bossy and overbearing in some situations.'\n",
    "q= '2 Conductor number(bhagyaank) two is associated with peace-making. Twos can’t bear conflict; they’ll go out of their way to mediate problems between friends and loved ones. Twos are excellent listeners but may suffer from anxiety or indecision when placed in competitive environments.'\n",
    "r= '3 If you’re born under the number three, you’re probably happiest when engaging in creative pursuits. Threes are artists. They love self-expression in the form of music, visual arts, or literature. Threes don’t thrive under restrictive conditions, though, so avoid jobs that involve strict routines.'\n",
    "s= '4 People born with conductor number(bhagyaank) four are drawn to careers where they can organize or build things. They need very structured, regimented environments to be happy. Fours make good architects, engineers, or programmers. They don’t work well with people who are very expressive with their emotions.'\n",
    "t= '5 The conductor number(bhagyaank) five is most closely associated with idealism. Fives need to feel like they are making the world a better place. You’ll often find fives working for non-profits or political campaigns. Unfortunately, fives can also be impractical and noncommittal.'\n",
    "u = '6 Those born with conductor number(bhagyaank) six are most fulfilled in nurturing positions. Sixes will probably be most happy as parents. They thrive in caretaker positions like medicine or education. Unfortunately, this need to nurture makes it hard for sixes to say no to other people’s demands.'\n",
    "v = '7 Conductor number(bhagyaank) seven is tied to investigation and analysis. Sevens are natural observers of life, and they make excellent detectives and scientists. Most sevens are introverts and don’t care for public speaking. People born under conductor number(bhagyaank)eight are life’s managers. They are happiest when directing others.'\n",
    "w= '8 Eights are usually organized and good at mediation. They sometimes tend to become overbearing. Those born under conductor number(bhagyaank)nine are best known for their charisma.'\n",
    "x= '9 Nines make excellent actors or politicians, and they usually have vast social networks. Sometimes, nines can be manipulative.'\n",
    "\n",
    "if i==1:\n",
    "    print(p)\n",
    "elif i == 2:\n",
    "    print(q)\n",
    "elif i ==3:\n",
    "    print(r)\n",
    "elif i ==4:\n",
    "    print(s)\n",
    "elif i==5:\n",
    "    print(t)\n",
    "elif i ==6:\n",
    "    print(u)\n",
    "elif i ==7:\n",
    "    print(v)\n",
    "elif i ==8:\n",
    "    print(w)\n",
    "else:\n",
    "    print(x)\n",
    "        \n",
    "        "
   ]
  },
  {
   "cell_type": "code",
   "execution_count": null,
   "id": "ba744d91",
   "metadata": {},
   "outputs": [],
   "source": []
  }
 ],
 "metadata": {
  "kernelspec": {
   "display_name": "Python 3 (ipykernel)",
   "language": "python",
   "name": "python3"
  },
  "language_info": {
   "codemirror_mode": {
    "name": "ipython",
    "version": 3
   },
   "file_extension": ".py",
   "mimetype": "text/x-python",
   "name": "python",
   "nbconvert_exporter": "python",
   "pygments_lexer": "ipython3",
   "version": "3.10.2"
  }
 },
 "nbformat": 4,
 "nbformat_minor": 5
}

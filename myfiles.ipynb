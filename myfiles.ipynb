{
 "cells": [
  {
   "cell_type": "code",
   "execution_count": null,
   "id": "bd2bfac6",
   "metadata": {},
   "outputs": [],
   "source": [
    "## number system"
   ]
  },
  {
   "cell_type": "code",
   "execution_count": null,
   "id": "3b550b5e",
   "metadata": {},
   "outputs": [],
   "source": [
    "2+1                                           ## word = 'mango'\n",
    "                                              ## letter = 'abcde...'"
   ]
  },
  {
   "cell_type": "code",
   "execution_count": null,
   "id": "96420b0f",
   "metadata": {},
   "outputs": [],
   "source": [
    "2**3"
   ]
  },
  {
   "cell_type": "code",
   "execution_count": null,
   "id": "db5cc7c7",
   "metadata": {},
   "outputs": [],
   "source": [
    "15425376%2"
   ]
  },
  {
   "cell_type": "code",
   "execution_count": null,
   "id": "e002f5ef",
   "metadata": {},
   "outputs": [],
   "source": [
    "1024**0.5"
   ]
  },
  {
   "cell_type": "code",
   "execution_count": null,
   "id": "ceff8459",
   "metadata": {},
   "outputs": [],
   "source": [
    "round(343**(1/3))"
   ]
  },
  {
   "cell_type": "code",
   "execution_count": null,
   "id": "f088c1c8",
   "metadata": {},
   "outputs": [],
   "source": [
    "3+4-3*5/2   ## pythone work like calculator"
   ]
  },
  {
   "cell_type": "code",
   "execution_count": null,
   "id": "541761e2",
   "metadata": {},
   "outputs": [],
   "source": [
    "pi=3.141"
   ]
  },
  {
   "cell_type": "code",
   "execution_count": null,
   "id": "dae0d3b3",
   "metadata": {},
   "outputs": [],
   "source": [
    "round(pi,2)"
   ]
  },
  {
   "cell_type": "code",
   "execution_count": null,
   "id": "76d16687",
   "metadata": {},
   "outputs": [],
   "source": [
    "type(pi)"
   ]
  },
  {
   "cell_type": "markdown",
   "id": "f3748e03",
   "metadata": {},
   "source": [
    "# strings"
   ]
  },
  {
   "cell_type": "code",
   "execution_count": null,
   "id": "5ace8afb",
   "metadata": {},
   "outputs": [],
   "source": [
    "s = \"manoj kumar\""
   ]
  },
  {
   "cell_type": "code",
   "execution_count": null,
   "id": "72b1256e",
   "metadata": {},
   "outputs": [],
   "source": [
    "s"
   ]
  },
  {
   "cell_type": "code",
   "execution_count": null,
   "id": "22c77087",
   "metadata": {},
   "outputs": [],
   "source": [
    "s[0]"
   ]
  },
  {
   "cell_type": "code",
   "execution_count": null,
   "id": "3de1f74f",
   "metadata": {},
   "outputs": [],
   "source": [
    "s[6:12]"
   ]
  },
  {
   "cell_type": "code",
   "execution_count": null,
   "id": "4b945ca8",
   "metadata": {},
   "outputs": [],
   "source": [
    "s[::2]"
   ]
  },
  {
   "cell_type": "code",
   "execution_count": null,
   "id": "3ee171c1",
   "metadata": {},
   "outputs": [],
   "source": [
    "s[::-1]"
   ]
  },
  {
   "cell_type": "code",
   "execution_count": null,
   "id": "c70c723b",
   "metadata": {},
   "outputs": [],
   "source": [
    "s[::3]"
   ]
  },
  {
   "cell_type": "code",
   "execution_count": null,
   "id": "38b95a2d",
   "metadata": {},
   "outputs": [],
   "source": [
    "\"Mr.\" + \"manoj kumar\""
   ]
  },
  {
   "cell_type": "code",
   "execution_count": null,
   "id": "6e89deff",
   "metadata": {},
   "outputs": [],
   "source": [
    "print(\"Mr.\" + \"manoj kumar\")"
   ]
  },
  {
   "cell_type": "code",
   "execution_count": null,
   "id": "820d3a47",
   "metadata": {},
   "outputs": [],
   "source": [
    "\"Mr.\" + \"manoj kumar\" + \"is a student of iit kanpur\""
   ]
  },
  {
   "cell_type": "code",
   "execution_count": null,
   "id": "1dbbab2f",
   "metadata": {},
   "outputs": [],
   "source": [
    "print(\"Mr.\" + \"manoj kumar\" + \"is a student of iit kanpur\")"
   ]
  },
  {
   "cell_type": "code",
   "execution_count": null,
   "id": "7741012b",
   "metadata": {},
   "outputs": [],
   "source": [
    "a = \"Mr \" + \"manoj kumar\" + \"is a student of iit kanpur\""
   ]
  },
  {
   "cell_type": "code",
   "execution_count": null,
   "id": "99e18ecd",
   "metadata": {},
   "outputs": [],
   "source": [
    "a"
   ]
  },
  {
   "cell_type": "code",
   "execution_count": null,
   "id": "dd2c884e",
   "metadata": {},
   "outputs": [],
   "source": [
    "a.capitalize()                                       "
   ]
  },
  {
   "cell_type": "code",
   "execution_count": null,
   "id": "6d0a0529",
   "metadata": {},
   "outputs": [],
   "source": [
    "a[0].capitalize()"
   ]
  },
  {
   "cell_type": "code",
   "execution_count": null,
   "id": "e5e21208",
   "metadata": {},
   "outputs": [],
   "source": [
    "a.split()"
   ]
  },
  {
   "cell_type": "code",
   "execution_count": null,
   "id": "ed0eb761",
   "metadata": {},
   "outputs": [],
   "source": [
    "print ('hello')\n"
   ]
  },
  {
   "cell_type": "code",
   "execution_count": null,
   "id": "31788fcc",
   "metadata": {},
   "outputs": [],
   "source": [
    "b = str(input())"
   ]
  },
  {
   "cell_type": "code",
   "execution_count": null,
   "id": "b00390bb",
   "metadata": {},
   "outputs": [],
   "source": [
    "b"
   ]
  },
  {
   "cell_type": "markdown",
   "id": "53edca89",
   "metadata": {},
   "source": [
    "## string format for printing"
   ]
  },
  {
   "cell_type": "code",
   "execution_count": null,
   "id": "9d6aaf87",
   "metadata": {},
   "outputs": [],
   "source": [
    "print(\"Hello\" + ' my_name')"
   ]
  },
  {
   "cell_type": "code",
   "execution_count": null,
   "id": "3cc84bae",
   "metadata": {},
   "outputs": [],
   "source": [
    "my_name = 'Manoj kumar'"
   ]
  },
  {
   "cell_type": "code",
   "execution_count": null,
   "id": "ea41389b",
   "metadata": {},
   "outputs": [],
   "source": [
    "my_name"
   ]
  },
  {
   "cell_type": "code",
   "execution_count": null,
   "id": "5d3ba4c5",
   "metadata": {},
   "outputs": [],
   "source": [
    "print(\"Hello \" + my_name)      # this called string interpolation"
   ]
  },
  {
   "cell_type": "markdown",
   "id": "2435f056",
   "metadata": {},
   "source": [
    "# Type 1"
   ]
  },
  {
   "cell_type": "code",
   "execution_count": null,
   "id": "f004f222",
   "metadata": {},
   "outputs": [],
   "source": [
    "name = \"dog\"                              # two type of print satement\n",
    "                                          # one is here\n",
    "print('this is bad :', name )\n"
   ]
  },
  {
   "cell_type": "code",
   "execution_count": null,
   "id": "7c85d584",
   "metadata": {},
   "outputs": [],
   "source": [
    "name = \"manoj kumar\"\n",
    "status = \" married and student at iit kanpur \"\n",
    "age = 34\n"
   ]
  },
  {
   "cell_type": "code",
   "execution_count": null,
   "id": "f6ac1c23",
   "metadata": {},
   "outputs": [],
   "source": [
    "print(f' hello, his name is {name} and status {status} or his age is {age}')"
   ]
  },
  {
   "cell_type": "code",
   "execution_count": null,
   "id": "ce290127",
   "metadata": {},
   "outputs": [],
   "source": [
    "name = \"sushma rai\"\n",
    "age = 27\n",
    "work = \"Tharapist\""
   ]
  },
  {
   "cell_type": "code",
   "execution_count": null,
   "id": "9f7ad050",
   "metadata": {},
   "outputs": [],
   "source": [
    "print(f'Her name is {name} and age {age} and her work is {work}')"
   ]
  },
  {
   "cell_type": "markdown",
   "id": "13e783dc",
   "metadata": {},
   "source": [
    "# Type 2"
   ]
  },
  {
   "cell_type": "code",
   "execution_count": null,
   "id": "4f50671d",
   "metadata": {},
   "outputs": [],
   "source": [
    "print('her name is :', name)\n",
    "print('her age is :', age)\n",
    "print('her work is :', work)\n"
   ]
  },
  {
   "cell_type": "markdown",
   "id": "e93d79c6",
   "metadata": {},
   "source": [
    "# Type 3"
   ]
  },
  {
   "cell_type": "code",
   "execution_count": null,
   "id": "d2837b8e",
   "metadata": {},
   "outputs": [],
   "source": [
    "print('This is me {}'.format('Manoj Kumar'))"
   ]
  },
  {
   "cell_type": "code",
   "execution_count": null,
   "id": "a4b1ea2e",
   "metadata": {},
   "outputs": [],
   "source": [
    "print('Manoj {k} is a {s} of iit {a}'.format( k = 'kumar',s = 'student', a = 'kanpur')) ## K,s,a string have thier initial letter"
   ]
  },
  {
   "cell_type": "markdown",
   "id": "56f8e4ab",
   "metadata": {},
   "source": [
    "# Type 4"
   ]
  },
  {
   "cell_type": "code",
   "execution_count": null,
   "id": "c01bf6f3",
   "metadata": {},
   "outputs": [],
   "source": [
    "R = 625/100"
   ]
  },
  {
   "cell_type": "code",
   "execution_count": null,
   "id": "1c22023f",
   "metadata": {},
   "outputs": [],
   "source": [
    "R"
   ]
  },
  {
   "cell_type": "code",
   "execution_count": null,
   "id": "d7d86db6",
   "metadata": {},
   "outputs": [],
   "source": [
    "print('The result was {r}'.format(r=R))"
   ]
  },
  {
   "cell_type": "code",
   "execution_count": null,
   "id": "4dcf474d",
   "metadata": {},
   "outputs": [],
   "source": [
    "print('The result was {r:2.2f}'.format(r=R))"
   ]
  },
  {
   "cell_type": "markdown",
   "id": "28ab2c7a",
   "metadata": {},
   "source": [
    "# List"
   ]
  },
  {
   "cell_type": "code",
   "execution_count": null,
   "id": "4f6f9855",
   "metadata": {},
   "outputs": [],
   "source": [
    "list = [1,2,2,2,2,3,4]"
   ]
  },
  {
   "cell_type": "code",
   "execution_count": null,
   "id": "dd220982",
   "metadata": {},
   "outputs": [],
   "source": [
    "list"
   ]
  },
  {
   "cell_type": "code",
   "execution_count": null,
   "id": "1d9d8aca",
   "metadata": {},
   "outputs": [],
   "source": [
    "a = list"
   ]
  },
  {
   "cell_type": "code",
   "execution_count": null,
   "id": "428e9e4a",
   "metadata": {},
   "outputs": [],
   "source": [
    "a"
   ]
  },
  {
   "cell_type": "code",
   "execution_count": null,
   "id": "8abae4de",
   "metadata": {},
   "outputs": [],
   "source": [
    "a.count(2)"
   ]
  },
  {
   "cell_type": "code",
   "execution_count": null,
   "id": "cd8d36d2",
   "metadata": {},
   "outputs": [],
   "source": [
    "a.append(10)"
   ]
  },
  {
   "cell_type": "code",
   "execution_count": null,
   "id": "a45dcca6",
   "metadata": {},
   "outputs": [],
   "source": [
    "a"
   ]
  },
  {
   "cell_type": "code",
   "execution_count": null,
   "id": "1e7980ab",
   "metadata": {},
   "outputs": [],
   "source": [
    "a.index(4)                                ## wat index of item in list"
   ]
  },
  {
   "cell_type": "code",
   "execution_count": null,
   "id": "776e80f2",
   "metadata": {},
   "outputs": [],
   "source": [
    "a.pop(7)                             ## to remove items by their idx No"
   ]
  },
  {
   "cell_type": "code",
   "execution_count": null,
   "id": "5342c1c6",
   "metadata": {},
   "outputs": [],
   "source": [
    "a"
   ]
  },
  {
   "cell_type": "code",
   "execution_count": null,
   "id": "e6546fdb",
   "metadata": {},
   "outputs": [],
   "source": [
    "a.sort()"
   ]
  },
  {
   "cell_type": "code",
   "execution_count": null,
   "id": "bcee71dc",
   "metadata": {},
   "outputs": [],
   "source": [
    "a"
   ]
  },
  {
   "cell_type": "code",
   "execution_count": null,
   "id": "a82f9986",
   "metadata": {},
   "outputs": [],
   "source": [
    "a.reverse()"
   ]
  },
  {
   "cell_type": "code",
   "execution_count": null,
   "id": "1cfd78c2",
   "metadata": {},
   "outputs": [],
   "source": [
    "a"
   ]
  },
  {
   "cell_type": "code",
   "execution_count": null,
   "id": "1911328f",
   "metadata": {},
   "outputs": [],
   "source": [
    "MK_list = ['MBA by Oxford', 80 , \"Harrier\"]"
   ]
  },
  {
   "cell_type": "code",
   "execution_count": null,
   "id": "1a6162cb",
   "metadata": {},
   "outputs": [],
   "source": [
    "MK_list[2]"
   ]
  },
  {
   "cell_type": "code",
   "execution_count": null,
   "id": "0d795b4f",
   "metadata": {},
   "outputs": [],
   "source": [
    "pwd"
   ]
  },
  {
   "cell_type": "code",
   "execution_count": null,
   "id": "301d7b8d",
   "metadata": {},
   "outputs": [],
   "source": [
    "                                                             ##  f = open('C:\\\\Users\\\\manoj\\\\cd.txt','r')"
   ]
  },
  {
   "cell_type": "markdown",
   "id": "2845f669",
   "metadata": {},
   "source": [
    "# Dictionary"
   ]
  },
  {
   "cell_type": "code",
   "execution_count": null,
   "id": "3837c3ea",
   "metadata": {},
   "outputs": [],
   "source": [
    "d = {'k1': \"sushma\",'k2': \"vaibhav\", 'k3': {'k4': 500}}"
   ]
  },
  {
   "cell_type": "code",
   "execution_count": null,
   "id": "20afc8f9",
   "metadata": {},
   "outputs": [],
   "source": [
    "d"
   ]
  },
  {
   "cell_type": "code",
   "execution_count": null,
   "id": "b74230fc",
   "metadata": {},
   "outputs": [],
   "source": [
    "d.keys()"
   ]
  },
  {
   "cell_type": "code",
   "execution_count": null,
   "id": "adb2bc11",
   "metadata": {},
   "outputs": [],
   "source": [
    "d.values()"
   ]
  },
  {
   "cell_type": "code",
   "execution_count": null,
   "id": "93abd349",
   "metadata": {},
   "outputs": [],
   "source": [
    "d.items()"
   ]
  },
  {
   "cell_type": "code",
   "execution_count": null,
   "id": "6072db1b",
   "metadata": {},
   "outputs": [],
   "source": [
    "d = {'k1': \"sushma\",'k2': \"vaibhav\", 'k3': {'k4': [500]}}"
   ]
  },
  {
   "cell_type": "code",
   "execution_count": null,
   "id": "8d9418c7",
   "metadata": {},
   "outputs": [],
   "source": [
    "d['k3']"
   ]
  },
  {
   "cell_type": "markdown",
   "id": "040e2498",
   "metadata": {},
   "source": [
    "# Read, write. and open file"
   ]
  },
  {
   "cell_type": "code",
   "execution_count": null,
   "id": "32bd8fc3",
   "metadata": {},
   "outputs": [],
   "source": [
    "%%writefile mfile.txt\n",
    "Hello this is my file\n",
    "my name is manoj kumar"
   ]
  },
  {
   "cell_type": "code",
   "execution_count": null,
   "id": "4641f897",
   "metadata": {},
   "outputs": [],
   "source": [
    "myfile = open('mfile.txt')"
   ]
  },
  {
   "cell_type": "markdown",
   "id": "727b7679",
   "metadata": {},
   "source": [
    "myfile.read()"
   ]
  },
  {
   "cell_type": "code",
   "execution_count": null,
   "id": "142d457a",
   "metadata": {},
   "outputs": [],
   "source": [
    "contents = myfile.read()"
   ]
  },
  {
   "cell_type": "code",
   "execution_count": null,
   "id": "abd18bf0",
   "metadata": {},
   "outputs": [],
   "source": [
    "contents"
   ]
  },
  {
   "cell_type": "code",
   "execution_count": null,
   "id": "320b3cdd",
   "metadata": {},
   "outputs": [],
   "source": [
    "%%writefile test.txt\n",
    "Hello world"
   ]
  },
  {
   "cell_type": "code",
   "execution_count": null,
   "id": "78f1b3d3",
   "metadata": {},
   "outputs": [],
   "source": [
    "file = open('test.txt')"
   ]
  },
  {
   "cell_type": "code",
   "execution_count": null,
   "id": "50a92afa",
   "metadata": {},
   "outputs": [],
   "source": [
    "file.read()"
   ]
  },
  {
   "cell_type": "markdown",
   "id": "dc8a67a4",
   "metadata": {},
   "source": [
    "## practice"
   ]
  },
  {
   "cell_type": "code",
   "execution_count": null,
   "id": "fc3b6250",
   "metadata": {},
   "outputs": [],
   "source": [
    " mylist = list([range(0,11)])"
   ]
  },
  {
   "cell_type": "code",
   "execution_count": null,
   "id": "6c0eb188",
   "metadata": {},
   "outputs": [],
   "source": [
    "mylist"
   ]
  },
  {
   "cell_type": "code",
   "execution_count": null,
   "id": "a5cbabbc",
   "metadata": {},
   "outputs": [],
   "source": [
    "for num in mylist:\n",
    "    print(num) "
   ]
  },
  {
   "cell_type": "code",
   "execution_count": null,
   "id": "3c26d032",
   "metadata": {},
   "outputs": [],
   "source": [
    "for num in mylist:\n",
    "    print('hello')"
   ]
  },
  {
   "cell_type": "code",
   "execution_count": null,
   "id": "73c5c4fd",
   "metadata": {},
   "outputs": [],
   "source": [
    "for num in mylist:\n",
    "    if num%2==0:\n",
    "        print(num)"
   ]
  },
  {
   "cell_type": "code",
   "execution_count": null,
   "id": "e5582b0f",
   "metadata": {},
   "outputs": [],
   "source": [
    "for num in mylist:\n",
    "    if num%2==0:\n",
    "        print(num)\n",
    "    else: \n",
    "        print('odd no',num)       ## print(f'odd no : {num}')"
   ]
  },
  {
   "cell_type": "code",
   "execution_count": null,
   "id": "f861734c",
   "metadata": {},
   "outputs": [],
   "source": [
    "s = 0\n",
    "for num in mylist:\n",
    "    s = s + num\n",
    "print(s)"
   ]
  },
  {
   "cell_type": "code",
   "execution_count": null,
   "id": "aeff1632",
   "metadata": {},
   "outputs": [],
   "source": [
    "str = 'i love you baby'\n",
    "for word in str:\n",
    "    print(word)"
   ]
  },
  {
   "cell_type": "code",
   "execution_count": null,
   "id": "2f3735f9",
   "metadata": {},
   "outputs": [],
   "source": [
    "x = 0\n",
    "while (x<5):\n",
    "    print('value of x :', x)\n",
    "    x=x+1\n"
   ]
  },
  {
   "cell_type": "code",
   "execution_count": null,
   "id": "155922d4",
   "metadata": {},
   "outputs": [],
   "source": [
    "idx_c = 0\n",
    "for word in 'abcde':\n",
    "    print('at idx :',idx_c,'the word is :',word)\n",
    "    \n",
    "idx_c = idx_c+1\n",
    "    "
   ]
  },
  {
   "cell_type": "code",
   "execution_count": null,
   "id": "09de713f",
   "metadata": {},
   "outputs": [],
   "source": [
    "idx = 0\n",
    "word = 'abcde'\n",
    "for word in word:\n",
    "    print(word[idx])\n",
    "    \n",
    "idx = idx+1\n",
    "    "
   ]
  },
  {
   "cell_type": "code",
   "execution_count": null,
   "id": "ff37b8b0",
   "metadata": {},
   "outputs": [],
   "source": [
    "word = 'abcde'\n",
    "for idx,word in enumerate(word):\n",
    "    print(idx,word)\n",
    "    \n",
    "    \n",
    "    "
   ]
  },
  {
   "cell_type": "code",
   "execution_count": null,
   "id": "be352a91",
   "metadata": {},
   "outputs": [],
   "source": [
    "from random import shuffle"
   ]
  },
  {
   "cell_type": "code",
   "execution_count": null,
   "id": "b768f52c",
   "metadata": {},
   "outputs": [],
   "source": [
    "m_list=['','0','']"
   ]
  },
  {
   "cell_type": "code",
   "execution_count": null,
   "id": "614ddd53",
   "metadata": {},
   "outputs": [],
   "source": [
    "shuffle(m_list)"
   ]
  },
  {
   "cell_type": "code",
   "execution_count": null,
   "id": "98c49061",
   "metadata": {},
   "outputs": [],
   "source": [
    "m_list"
   ]
  },
  {
   "cell_type": "code",
   "execution_count": null,
   "id": "9c879942",
   "metadata": {},
   "outputs": [],
   "source": [
    "import csv"
   ]
  },
  {
   "cell_type": "code",
   "execution_count": null,
   "id": "caf80565",
   "metadata": {},
   "outputs": [],
   "source": [
    "data = open('test.csv')"
   ]
  },
  {
   "cell_type": "code",
   "execution_count": null,
   "id": "1d66ccbe",
   "metadata": {},
   "outputs": [],
   "source": [
    "csv_data =csv.reader(data)"
   ]
  },
  {
   "cell_type": "code",
   "execution_count": null,
   "id": "fcc1cf02",
   "metadata": {},
   "outputs": [],
   "source": [
    "data_line = list(csv_data)"
   ]
  },
  {
   "cell_type": "code",
   "execution_count": null,
   "id": "95c59e2a",
   "metadata": {},
   "outputs": [],
   "source": [
    "data_line[613]"
   ]
  },
  {
   "cell_type": "code",
   "execution_count": null,
   "id": "6dff8200",
   "metadata": {},
   "outputs": [],
   "source": [
    "a = int(input('enter no A :'))\n",
    "b = int(input('enter no B :'))\n"
   ]
  },
  {
   "cell_type": "code",
   "execution_count": null,
   "id": "8be947ab",
   "metadata": {},
   "outputs": [],
   "source": [
    "a"
   ]
  },
  {
   "cell_type": "code",
   "execution_count": null,
   "id": "a2eb0681",
   "metadata": {},
   "outputs": [],
   "source": [
    "b"
   ]
  },
  {
   "cell_type": "code",
   "execution_count": null,
   "id": "b3586941",
   "metadata": {},
   "outputs": [],
   "source": [
    "temp = a\n",
    "b=temp\n",
    "a=b"
   ]
  },
  {
   "cell_type": "code",
   "execution_count": null,
   "id": "d7596f2a",
   "metadata": {},
   "outputs": [],
   "source": [
    "a"
   ]
  },
  {
   "cell_type": "code",
   "execution_count": null,
   "id": "3ae17f05",
   "metadata": {},
   "outputs": [],
   "source": [
    "b"
   ]
  },
  {
   "cell_type": "markdown",
   "id": "c1926bef",
   "metadata": {},
   "source": [
    "# Password Checker"
   ]
  },
  {
   "cell_type": "code",
   "execution_count": null,
   "id": "f1101c32",
   "metadata": {},
   "outputs": [],
   "source": [
    "print('*'*5)\n",
    "print('*'*4)\n",
    "print('*'*3)\n",
    "print('*'*2)\n",
    "print('*'*1)\n"
   ]
  },
  {
   "cell_type": "code",
   "execution_count": null,
   "id": "7b1c1d8c",
   "metadata": {},
   "outputs": [],
   "source": [
    "print('@'*1)\n",
    "print('@'*2)\n",
    "print('@'*3)\n",
    "print('@'*4)\n",
    "print('@'*5)\n"
   ]
  },
  {
   "cell_type": "code",
   "execution_count": null,
   "id": "9063c3b0",
   "metadata": {},
   "outputs": [],
   "source": [
    "# password checker\n",
    "\n",
    "username = input(' username :')\n",
    "password = input(' password :')\n",
    "\n",
    "pass_length = len(password)\n",
    "pass_len = '*'* pass_length\n",
    "\n",
    "print(' your username is :', username , \n",
    "      '\\n your password is :', password ,\n",
    "      '\\n your password lenght charcter :', pass_len,  pass_length)\n",
    "\n"
   ]
  },
  {
   "cell_type": "code",
   "execution_count": null,
   "id": "4f7fcfa1",
   "metadata": {},
   "outputs": [],
   "source": [
    "# counter programe\n",
    "\n",
    "number_list = [1,2,3,4,5,6,7,8,9,10]\n",
    "\n",
    "counter = 0\n",
    "\n",
    "for number in number_list:\n",
    "    counter += number\n",
    "    print(counter)\n",
    "    \n",
    "print(counter)"
   ]
  },
  {
   "cell_type": "code",
   "execution_count": null,
   "id": "b8bd8655",
   "metadata": {},
   "outputs": [],
   "source": [
    "\n",
    "#Display the image below to the right hand side where the 0 is going to be ' ', \n",
    "#and the 1 is going to be '*'. This will reveal an image!\n",
    "\n",
    "picture = [\n",
    "  [0,0,0,1,0,0,0],\n",
    "  [0,0,1,1,1,0,0],\n",
    "  [0,1,1,1,1,1,0],\n",
    "  [1,1,1,1,1,1,1],\n",
    "  [0,0,0,1,0,0,0],\n",
    "  [0,0,0,1,0,0,0]\n",
    "]\n",
    "\n",
    "\n",
    "for image in picture:\n",
    "    for pixel in image:\n",
    "        if (pixel==1):\n",
    "            print('*', end = '')\n",
    "        else:\n",
    "            print(' ', end = '')\n",
    "\n",
    "    print('')\n"
   ]
  },
  {
   "cell_type": "code",
   "execution_count": null,
   "id": "77c6ac38",
   "metadata": {},
   "outputs": [],
   "source": [
    "print(\"Welcome to\" , end = ' ')\n",
    "\n",
    "print(\"Geeks for Geeks\", end = '')"
   ]
  },
  {
   "cell_type": "code",
   "execution_count": null,
   "id": "1fb3d944",
   "metadata": {},
   "outputs": [],
   "source": [
    "# find duplicates value\n",
    "\n",
    "mylist = ['a','a','b','b','c']\n",
    "\n",
    "duplicate = []\n",
    "for value in mylist:\n",
    "    if mylist.count(value) > 1:\n",
    "        if value not in duplicate:\n",
    "            duplicate.append(value)\n",
    "                \n",
    "print(duplicate)"
   ]
  },
  {
   "cell_type": "code",
   "execution_count": null,
   "id": "f85e07af",
   "metadata": {},
   "outputs": [],
   "source": [
    "# check driver age\n",
    "\n",
    "def checkDriverAge():\n",
    "    age = input(\"What is your age?: \")\n",
    "    if int(age) < 18:\n",
    "        print(\"Sorry, you are too young to drive this car. Powering off\")\n",
    "        \n",
    "    elif int(age) > 18:\n",
    "        print(\"Powering On. Enjoy the ride!\");\n",
    "    elif int(age) == 18:\n",
    "        print(\"Congratulations on your first year of driving. Enjoy the ride!\")\n",
    "        \n",
    "checkDriverAge()\n",
    "\n"
   ]
  },
  {
   "cell_type": "code",
   "execution_count": null,
   "id": "5beeba6e",
   "metadata": {},
   "outputs": [],
   "source": [
    "#2 Instead of using the input(). Now, make the checkDriverAge() function accept an argument of age, so that if you enter:\n",
    "#checkDriverAge(92);\n",
    "#it returns \"Powering On. Enjoy the ride!\"\n",
    "#also make it so that the default age is set to 0 if no argument is given.\n",
    "\n",
    "def checkDriverAge(age=input('your age ')):\n",
    "    if int(age) < 18:\n",
    "        print(\"Sorry, you are too yound to drive this car. Powering off\")\n",
    "    elif int(age) > 18:\n",
    "        print(\"Powering On. Enjoy the ride!\");\n",
    "    elif int(age) == 18:\n",
    "        print(\"Congratulations on your first year of driving. Enjoy the ride!\")\n",
    "checkDriverAge()"
   ]
  },
  {
   "cell_type": "markdown",
   "id": "bb2375d4",
   "metadata": {},
   "source": [
    "# numerology"
   ]
  },
  {
   "cell_type": "code",
   "execution_count": 1,
   "id": "5e3ce641",
   "metadata": {},
   "outputs": [
    {
     "name": "stdout",
     "output_type": "stream",
     "text": [
      "2\n"
     ]
    }
   ],
   "source": [
    "c=25\n",
    "b=c//10   # (ab) // n = a\n",
    "\n",
    "print(b)\n",
    "\n"
   ]
  },
  {
   "cell_type": "code",
   "execution_count": 2,
   "id": "80cd2943",
   "metadata": {},
   "outputs": [
    {
     "name": "stdout",
     "output_type": "stream",
     "text": [
      "5\n"
     ]
    }
   ],
   "source": [
    "i=25\n",
    "a=i%10   # (ab) % n = b\n",
    "\n",
    "print(a)"
   ]
  },
  {
   "cell_type": "code",
   "execution_count": 3,
   "id": "2fb5a935",
   "metadata": {},
   "outputs": [
    {
     "name": "stdout",
     "output_type": "stream",
     "text": [
      "9\n"
     ]
    }
   ],
   "source": [
    "# find sum of two digit number >9 like 21,23,18,etc\n",
    "\n",
    "\n",
    "\n",
    "N = 18\n",
    "\n",
    "s= N%10 + N//10\n",
    "\n",
    "print(s)\n"
   ]
  },
  {
   "cell_type": "code",
   "execution_count": 19,
   "id": "5cfc09bd",
   "metadata": {},
   "outputs": [
    {
     "name": "stdout",
     "output_type": "stream",
     "text": [
      "your DOB is : 29011995\n",
      " Your birth number is :  29 \n",
      " Your mulaank is :  2\n",
      "Your conductor number is : 9\n"
     ]
    }
   ],
   "source": [
    "# To find mulank(birth number) and bhagyank(conductor number)\n",
    "\n",
    "DOB_str = input(\"your DOB is : \")\n",
    "\n",
    "# calculation for mulaak\n",
    "n = 0\n",
    "for num in DOB_str[:2]:\n",
    "    n += int(num)\n",
    "     \n",
    "    # modulation in case of 2 digit number\n",
    "    if n > 9:\n",
    "        n = n % 10 + n // 10\n",
    "        print(\" Your birth number is : \" ,DOB_str[:2],\"\\n Your mulaank is : \" ,n)\n",
    "\n",
    "\n",
    "# calculation for bhagyaank\n",
    "i = 0\n",
    "for num in DOB_str:\n",
    "    i += int(num)\n",
    "     \n",
    "    # modulation in case of 2 digit number\n",
    "    if i > 9:\n",
    "        i = i % 10 + i // 10\n",
    " \n"
   ]
  },
  {
   "cell_type": "code",
   "execution_count": 18,
   "id": "ada0092a",
   "metadata": {},
   "outputs": [
    {
     "name": "stdout",
     "output_type": "stream",
     "text": [
      "your DOB is : 29011995\n",
      " Your birth number is :  2\n"
     ]
    }
   ],
   "source": [
    "DOB_str = input(\"your DOB is : \")\n",
    "\n",
    "i = 0\n",
    "for num in DOB_str[:2]:\n",
    "    i += int(num)\n",
    "     \n",
    "    # modulation in case of 2 digit number\n",
    "    if i > 9:\n",
    "        i = i % 10 + i // 10\n",
    "        \n",
    "print(\" Your birth number is : \" ,i)\n",
    "\n"
   ]
  },
  {
   "cell_type": "code",
   "execution_count": null,
   "id": "18fac8c5",
   "metadata": {},
   "outputs": [],
   "source": []
  },
  {
   "cell_type": "code",
   "execution_count": null,
   "id": "edd2e649",
   "metadata": {},
   "outputs": [],
   "source": []
  }
 ],
 "metadata": {
  "kernelspec": {
   "display_name": "Python 3 (ipykernel)",
   "language": "python",
   "name": "python3"
  },
  "language_info": {
   "codemirror_mode": {
    "name": "ipython",
    "version": 3
   },
   "file_extension": ".py",
   "mimetype": "text/x-python",
   "name": "python",
   "nbconvert_exporter": "python",
   "pygments_lexer": "ipython3",
   "version": "3.10.2"
  }
 },
 "nbformat": 4,
 "nbformat_minor": 5
}
